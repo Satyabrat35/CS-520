{
 "cells": [
  {
   "cell_type": "code",
   "execution_count": 1,
   "id": "3f33b36f",
   "metadata": {
    "_cell_guid": "b1076dfc-b9ad-4769-8c92-a6c4dae69d19",
    "_uuid": "8f2839f25d086af736a60e9eeb907d3b93b6e0e5",
    "execution": {
     "iopub.execute_input": "2022-10-14T02:57:14.291226Z",
     "iopub.status.busy": "2022-10-14T02:57:14.290802Z",
     "iopub.status.idle": "2022-10-14T02:57:14.301967Z",
     "shell.execute_reply": "2022-10-14T02:57:14.301048Z"
    },
    "papermill": {
     "duration": 0.018732,
     "end_time": "2022-10-14T02:57:14.304175",
     "exception": false,
     "start_time": "2022-10-14T02:57:14.285443",
     "status": "completed"
    },
    "tags": []
   },
   "outputs": [],
   "source": [
    "# This Python 3 environment comes with many helpful analytics libraries installed\n",
    "# It is defined by the kaggle/python Docker image: https://github.com/kaggle/docker-python\n",
    "# For example, here's several helpful packages to load\n",
    "\n",
    "import numpy as np # linear algebra\n",
    "import pandas as pd # data processing, CSV file I/O (e.g. pd.read_csv)\n",
    "import matplotlib.pyplot as plt\n",
    "\n",
    "import os\n",
    "for dirname, _, filenames in os.walk('/kaggle/input'):\n",
    "    for filename in filenames:\n",
    "        print(os.path.join(dirname, filename))"
   ]
  },
  {
   "cell_type": "code",
   "execution_count": 2,
   "id": "772acf40",
   "metadata": {
    "execution": {
     "iopub.execute_input": "2022-10-14T02:57:14.311082Z",
     "iopub.status.busy": "2022-10-14T02:57:14.310686Z",
     "iopub.status.idle": "2022-10-14T02:57:14.317409Z",
     "shell.execute_reply": "2022-10-14T02:57:14.316427Z"
    },
    "papermill": {
     "duration": 0.012575,
     "end_time": "2022-10-14T02:57:14.319572",
     "exception": false,
     "start_time": "2022-10-14T02:57:14.306997",
     "status": "completed"
    },
    "tags": []
   },
   "outputs": [],
   "source": [
    "def compute_square_sum(b, a):\n",
    "\n",
    "    a_transpose = np.transpose(a)\n",
    "    a_transpose_a_mul_a = np.matmul(a_transpose, a)\n",
    "    c = b - a_transpose_a_mul_a\n",
    "    c_square = np.power(c, 2)\n",
    "    sum_row = np.sum(c_square, axis=1)\n",
    "    return np.sum(sum_row)\n",
    "\n",
    "\n",
    "def apply_gradient_descent(a, b, alpha):\n",
    "    a_transpose = np.transpose(a)\n",
    "    a_transpose_a_mul_a = np.matmul(a_transpose, a)\n",
    "    a_transpose_a_mul_a_sub_b = a_transpose_a_mul_a - b\n",
    "\n",
    "    g = 4 * np.matmul(a, a_transpose_a_mul_a_sub_b)\n",
    "    return a - (alpha * g)"
   ]
  },
  {
   "cell_type": "code",
   "execution_count": 3,
   "id": "7675cf98",
   "metadata": {
    "execution": {
     "iopub.execute_input": "2022-10-14T02:57:14.326345Z",
     "iopub.status.busy": "2022-10-14T02:57:14.325708Z",
     "iopub.status.idle": "2022-10-14T02:57:14.591220Z",
     "shell.execute_reply": "2022-10-14T02:57:14.590117Z"
    },
    "papermill": {
     "duration": 0.274209,
     "end_time": "2022-10-14T02:57:14.596410",
     "exception": false,
     "start_time": "2022-10-14T02:57:14.322201",
     "status": "completed"
    },
    "tags": []
   },
   "outputs": [
    {
     "data": {
      "image/png": "[encoded data removed]",
      "text/plain": [
       "<Figure size 432x288 with 1 Axes>"
      ]
     },
     "metadata": {
      "needs_background": "light"
     },
     "output_type": "display_data"
    }
   ],
   "source": [
    "k, d = 10,10\n",
    "\n",
    "arr = np.random.normal(0, 1, k*d)\n",
    "\n",
    "mat_a_prime = np.array(arr)\n",
    "mat_a_prime = mat_a_prime.reshape(k,d)\n",
    "\n",
    "mat_a_prime_transpose = np.transpose(mat_a_prime)\n",
    "mat_b = np.matmul(mat_a_prime_transpose, mat_a_prime)\n",
    "\n",
    "\n",
    "arr = np.random.rand(k,d)\n",
    "mat_a = np.array(arr)\n",
    "mat_a = mat_a.reshape(k, d)\n",
    "\n",
    "\n",
    "x_axis = [1]\n",
    "\n",
    "y_axis = [compute_square_sum(mat_b, mat_a)]\n",
    "\n",
    "\n",
    "for i in range(1000):\n",
    "    mat_a = apply_gradient_descent(mat_a, mat_b, 0.005)\n",
    "    y_axis.append(compute_square_sum(mat_b, mat_a))\n",
    "    x_axis.append(i + 1)\n",
    "\n",
    "plt.plot(x_axis, y_axis)\n",
    "\n",
    "plt.xlabel('Iteration')\n",
    "plt.ylabel('L(A)')\n",
    "\n",
    "# function to show the plot\n",
    "plt.show()"
   ]
  },
  {
   "cell_type": "code",
   "execution_count": 4,
   "id": "5580df79",
   "metadata": {
    "execution": {
     "iopub.execute_input": "2022-10-14T02:57:14.605352Z",
     "iopub.status.busy": "2022-10-14T02:57:14.604939Z",
     "iopub.status.idle": "2022-10-14T02:57:15.059805Z",
     "shell.execute_reply": "2022-10-14T02:57:15.058863Z"
    },
    "papermill": {
     "duration": 0.461758,
     "end_time": "2022-10-14T02:57:15.062190",
     "exception": false,
     "start_time": "2022-10-14T02:57:14.600432",
     "status": "completed"
    },
    "tags": []
   },
   "outputs": [
    {
     "name": "stdout",
     "output_type": "stream",
     "text": [
      "19\n",
      "[2238.068968174196, 1196.430527261597, 743.8534556600146, 423.25536595359574, 196.48722289468537, 78.17596678541513, 27.415748771433705, 8.257053190926955, 0.12177776406998117, 1.500870722641837e-06, 0.0005400687240505521, 0.0008791477427554129, 0.0013500730408382365, 0.0017807775663622595, 0.002148792282053301, 0.0021621556337192644, 0.0023965165902711683, 0.0025940301661666622, 0.0026726169908597225]\n"
     ]
    },
    {
     "data": {
      "text/plain": [
       "Text(0, 0.5, 'L(A)')"
      ]
     },
     "execution_count": 4,
     "metadata": {},
     "output_type": "execute_result"
    },
    {
     "data": {
      "image/png": "[encoded data removed]",
      "text/plain": [
       "<Figure size 432x288 with 1 Axes>"
      ]
     },
     "metadata": {
      "needs_background": "light"
     },
     "output_type": "display_data"
    }
   ],
   "source": [
    "k, d = 10, 15\n",
    "arr = np.random.normal(0, 1, k*d)\n",
    "# print(arr)\n",
    "# arr = np.random.rand(k,d)\n",
    "\n",
    "mat_a_prime = np.array(arr)\n",
    "mat_a_prime = mat_a_prime.reshape(k,d)\n",
    "\n",
    "# g = 4 * mat_a_prime\n",
    "\n",
    "mat_a_prime_transpose = np.transpose(mat_a_prime)\n",
    "mat_b = np.matmul(mat_a_prime_transpose, mat_a_prime)\n",
    "\n",
    "final_error = []\n",
    "k_new = [i for i in range(1,20)]\n",
    "for k in range(1, 20):\n",
    "    arr = np.random.rand(k,d)\n",
    "    a_new = np.array(arr)\n",
    "    a_new = a_new.reshape(k, d)\n",
    "    for i in range(1000):\n",
    "        a_new = apply_gradient_descent(a_new, mat_b, 0.005)\n",
    "        \n",
    "    final_error.append(compute_square_sum(mat_b, a_new))\n",
    "\n",
    "\n",
    "print(len(k_new))\n",
    "print(final_error)\n",
    "plt.plot(k_new, final_error)\n",
    "plt.xlabel('Iteration')\n",
    "plt.ylabel('L(A)')"
   ]
  },
  {
   "cell_type": "code",
   "execution_count": 5,
   "id": "f30d5c9a",
   "metadata": {
    "execution": {
     "iopub.execute_input": "2022-10-14T02:57:15.070597Z",
     "iopub.status.busy": "2022-10-14T02:57:15.070199Z",
     "iopub.status.idle": "2022-10-14T02:57:15.518580Z",
     "shell.execute_reply": "2022-10-14T02:57:15.517755Z"
    },
    "papermill": {
     "duration": 0.455023,
     "end_time": "2022-10-14T02:57:15.520785",
     "exception": false,
     "start_time": "2022-10-14T02:57:15.065762",
     "status": "completed"
    },
    "tags": []
   },
   "outputs": [
    {
     "name": "stdout",
     "output_type": "stream",
     "text": [
      "19\n",
      "[4.0, 3.0000000000000004, 1.9999999999999998, 1.0, 2.555835723000413e-29, 1.2486371110910696e-29, 3.577676113514795e-29, 1.6616809166815224e-29, 1.5410310981936612e-29, 2.412439628149385e-29, 1.1410392353668213e-29, 1.5085081681691047e-29, 9.496298255083926e-30, 1.2381968258786397e-29, 9.347334881177764e-30, 1.5187314335659945e-29, 7.592205620586403e-30, 1.2185840706457848e-29, 1.976288290425629e-29]\n"
     ]
    },
    {
     "data": {
      "text/plain": [
       "Text(0, 0.5, 'L(A)')"
      ]
     },
     "execution_count": 5,
     "metadata": {},
     "output_type": "execute_result"
    },
    {
     "data": {
      "image/png": "[encoded data removed]",
      "text/plain": [
       "<Figure size 432x288 with 1 Axes>"
      ]
     },
     "metadata": {
      "needs_background": "light"
     },
     "output_type": "display_data"
    }
   ],
   "source": [
    "d = 5\n",
    "mat_b = np.identity(d)\n",
    "\n",
    "final_error = []\n",
    "k_new = [i for i in range(1,20)]\n",
    "for k in range(1, 20):\n",
    "    arr = np.random.rand(k,d)\n",
    "    a_new = np.array(arr)\n",
    "    a_new = a_new.reshape(k, d)\n",
    "    for i in range(1000):\n",
    "        a_new = apply_gradient_descent(a_new, mat_b, 0.005)\n",
    "        \n",
    "    final_error.append(compute_square_sum(mat_b, a_new))\n",
    "    \n",
    "print(len(k_new))\n",
    "print(final_error)\n",
    "plt.plot(k_new, final_error)\n",
    "plt.xlabel('Iteration')\n",
    "plt.ylabel('L(A)')"
   ]
  },
  {
   "cell_type": "code",
   "execution_count": 6,
   "id": "7cd5d412",
   "metadata": {
    "execution": {
     "iopub.execute_input": "2022-10-14T02:57:15.530184Z",
     "iopub.status.busy": "2022-10-14T02:57:15.529384Z",
     "iopub.status.idle": "2022-10-14T02:57:15.917706Z",
     "shell.execute_reply": "2022-10-14T02:57:15.916705Z"
    },
    "papermill": {
     "duration": 0.395755,
     "end_time": "2022-10-14T02:57:15.920249",
     "exception": false,
     "start_time": "2022-10-14T02:57:15.524494",
     "status": "completed"
    },
    "tags": []
   },
   "outputs": [
    {
     "name": "stdout",
     "output_type": "stream",
     "text": [
      "19\n",
      "[4.0, 3.0000000000000004, 2.0, 1.0, 1.0, 1.0, 1.0, 1.0, 1.0, 1.0, 1.0, 1.0, 1.0, 1.0, 1.0, 1.0, 1.0, 1.0, 1.0]\n"
     ]
    },
    {
     "data": {
      "text/plain": [
       "Text(0, 0.5, 'L(A)')"
      ]
     },
     "execution_count": 6,
     "metadata": {},
     "output_type": "execute_result"
    },
    {
     "data": {
      "image/png": "[encoded data removed]",
      "text/plain": [
       "<Figure size 432x288 with 1 Axes>"
      ]
     },
     "metadata": {
      "needs_background": "light"
     },
     "output_type": "display_data"
    }
   ],
   "source": [
    "d = 5\n",
    "mat_b = np.identity(d)\n",
    "mat_b[4][4] = -1\n",
    "\n",
    "final_error = []\n",
    "k_new = [i for i in range(1,20)]\n",
    "for k in range(1, 20):\n",
    "    arr = np.random.rand(k,d)\n",
    "    a_new = np.array(arr)\n",
    "    a_new = a_new.reshape(k, d)\n",
    "    for i in range(1000):\n",
    "        a_new = apply_gradient_descent(a_new, mat_b, 0.005)\n",
    "        \n",
    "    final_error.append(compute_square_sum(mat_b, a_new))\n",
    "    \n",
    "print(len(k_new))\n",
    "print(final_error)\n",
    "plt.plot(k_new, final_error)\n",
    "plt.xlabel('Iteration')\n",
    "plt.ylabel('L(A)')"
   ]
  }
 ],
 "metadata": {
  "kernelspec": {
   "display_name": "Python 3",
   "language": "python",
   "name": "python3"
  },
  "language_info": {
   "codemirror_mode": {
    "name": "ipython",
    "version": 3
   },
   "file_extension": ".py",
   "mimetype": "text/x-python",
   "name": "python",
   "nbconvert_exporter": "python",
   "pygments_lexer": "ipython3",
   "version": "3.7.12"
  },
  "papermill": {
   "default_parameters": {},
   "duration": 11.223338,
   "end_time": "2022-10-14T02:57:16.646696",
   "environment_variables": {},
   "exception": null,
   "input_path": "__notebook__.ipynb",
   "output_path": "__notebook__.ipynb",
   "parameters": {},
   "start_time": "2022-10-14T02:57:05.423358",
   "version": "2.3.4"
  }
 },
 "nbformat": 4,
 "nbformat_minor": 5
}
